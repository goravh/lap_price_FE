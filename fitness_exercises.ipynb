{
 "cells": [
  {
   "cell_type": "code",
   "execution_count": 1,
   "id": "b602ffe6",
   "metadata": {},
   "outputs": [],
   "source": [
    "import numpy as np\n",
    "import pandas as pd"
   ]
  },
  {
   "cell_type": "code",
   "execution_count": 2,
   "id": "f5464a87",
   "metadata": {},
   "outputs": [],
   "source": [
    "fitness_dataset = pd.read_csv(\"fitness_exercises.csv\")"
   ]
  },
  {
   "cell_type": "code",
   "execution_count": 3,
   "id": "988fa036",
   "metadata": {},
   "outputs": [
    {
     "data": {
      "text/html": [
       "<div>\n",
       "<style scoped>\n",
       "    .dataframe tbody tr th:only-of-type {\n",
       "        vertical-align: middle;\n",
       "    }\n",
       "\n",
       "    .dataframe tbody tr th {\n",
       "        vertical-align: top;\n",
       "    }\n",
       "\n",
       "    .dataframe thead th {\n",
       "        text-align: right;\n",
       "    }\n",
       "</style>\n",
       "<table border=\"1\" class=\"dataframe\">\n",
       "  <thead>\n",
       "    <tr style=\"text-align: right;\">\n",
       "      <th></th>\n",
       "      <th>bodyPart</th>\n",
       "      <th>equipment</th>\n",
       "      <th>gifUrl</th>\n",
       "      <th>id</th>\n",
       "      <th>name</th>\n",
       "      <th>target</th>\n",
       "    </tr>\n",
       "  </thead>\n",
       "  <tbody>\n",
       "    <tr>\n",
       "      <th>0</th>\n",
       "      <td>waist</td>\n",
       "      <td>body weight</td>\n",
       "      <td>http://d205bpvrqc9yn1.cloudfront.net/0001.gif</td>\n",
       "      <td>1</td>\n",
       "      <td>3/4 sit-up</td>\n",
       "      <td>abs</td>\n",
       "    </tr>\n",
       "    <tr>\n",
       "      <th>1</th>\n",
       "      <td>waist</td>\n",
       "      <td>body weight</td>\n",
       "      <td>http://d205bpvrqc9yn1.cloudfront.net/0002.gif</td>\n",
       "      <td>2</td>\n",
       "      <td>45° side bend</td>\n",
       "      <td>abs</td>\n",
       "    </tr>\n",
       "    <tr>\n",
       "      <th>2</th>\n",
       "      <td>waist</td>\n",
       "      <td>body weight</td>\n",
       "      <td>http://d205bpvrqc9yn1.cloudfront.net/0003.gif</td>\n",
       "      <td>3</td>\n",
       "      <td>air bike</td>\n",
       "      <td>abs</td>\n",
       "    </tr>\n",
       "    <tr>\n",
       "      <th>3</th>\n",
       "      <td>upper legs</td>\n",
       "      <td>body weight</td>\n",
       "      <td>http://d205bpvrqc9yn1.cloudfront.net/1512.gif</td>\n",
       "      <td>1512</td>\n",
       "      <td>all fours squad stretch</td>\n",
       "      <td>quads</td>\n",
       "    </tr>\n",
       "    <tr>\n",
       "      <th>4</th>\n",
       "      <td>waist</td>\n",
       "      <td>body weight</td>\n",
       "      <td>http://d205bpvrqc9yn1.cloudfront.net/0006.gif</td>\n",
       "      <td>6</td>\n",
       "      <td>alternate heel touchers</td>\n",
       "      <td>abs</td>\n",
       "    </tr>\n",
       "  </tbody>\n",
       "</table>\n",
       "</div>"
      ],
      "text/plain": [
       "     bodyPart    equipment                                         gifUrl  \\\n",
       "0       waist  body weight  http://d205bpvrqc9yn1.cloudfront.net/0001.gif   \n",
       "1       waist  body weight  http://d205bpvrqc9yn1.cloudfront.net/0002.gif   \n",
       "2       waist  body weight  http://d205bpvrqc9yn1.cloudfront.net/0003.gif   \n",
       "3  upper legs  body weight  http://d205bpvrqc9yn1.cloudfront.net/1512.gif   \n",
       "4       waist  body weight  http://d205bpvrqc9yn1.cloudfront.net/0006.gif   \n",
       "\n",
       "     id                     name target  \n",
       "0     1               3/4 sit-up    abs  \n",
       "1     2            45° side bend    abs  \n",
       "2     3                 air bike    abs  \n",
       "3  1512  all fours squad stretch  quads  \n",
       "4     6  alternate heel touchers    abs  "
      ]
     },
     "execution_count": 3,
     "metadata": {},
     "output_type": "execute_result"
    }
   ],
   "source": [
    "fitness_dataset.head()"
   ]
  },
  {
   "cell_type": "code",
   "execution_count": 4,
   "id": "2ecd0b9d",
   "metadata": {},
   "outputs": [],
   "source": [
    "that = \"abs\""
   ]
  },
  {
   "cell_type": "code",
   "execution_count": 5,
   "id": "d2131847",
   "metadata": {},
   "outputs": [],
   "source": [
    "fitness_dataset[\"abs\"] = fitness_dataset['target'].str.find(that)"
   ]
  },
  {
   "cell_type": "code",
   "execution_count": 6,
   "id": "48d43836",
   "metadata": {},
   "outputs": [
    {
     "data": {
      "text/html": [
       "<div>\n",
       "<style scoped>\n",
       "    .dataframe tbody tr th:only-of-type {\n",
       "        vertical-align: middle;\n",
       "    }\n",
       "\n",
       "    .dataframe tbody tr th {\n",
       "        vertical-align: top;\n",
       "    }\n",
       "\n",
       "    .dataframe thead th {\n",
       "        text-align: right;\n",
       "    }\n",
       "</style>\n",
       "<table border=\"1\" class=\"dataframe\">\n",
       "  <thead>\n",
       "    <tr style=\"text-align: right;\">\n",
       "      <th></th>\n",
       "      <th>bodyPart</th>\n",
       "      <th>equipment</th>\n",
       "      <th>gifUrl</th>\n",
       "      <th>id</th>\n",
       "      <th>name</th>\n",
       "      <th>target</th>\n",
       "      <th>abs</th>\n",
       "    </tr>\n",
       "  </thead>\n",
       "  <tbody>\n",
       "    <tr>\n",
       "      <th>0</th>\n",
       "      <td>waist</td>\n",
       "      <td>body weight</td>\n",
       "      <td>http://d205bpvrqc9yn1.cloudfront.net/0001.gif</td>\n",
       "      <td>1</td>\n",
       "      <td>3/4 sit-up</td>\n",
       "      <td>abs</td>\n",
       "      <td>0</td>\n",
       "    </tr>\n",
       "    <tr>\n",
       "      <th>1</th>\n",
       "      <td>waist</td>\n",
       "      <td>body weight</td>\n",
       "      <td>http://d205bpvrqc9yn1.cloudfront.net/0002.gif</td>\n",
       "      <td>2</td>\n",
       "      <td>45° side bend</td>\n",
       "      <td>abs</td>\n",
       "      <td>0</td>\n",
       "    </tr>\n",
       "    <tr>\n",
       "      <th>2</th>\n",
       "      <td>waist</td>\n",
       "      <td>body weight</td>\n",
       "      <td>http://d205bpvrqc9yn1.cloudfront.net/0003.gif</td>\n",
       "      <td>3</td>\n",
       "      <td>air bike</td>\n",
       "      <td>abs</td>\n",
       "      <td>0</td>\n",
       "    </tr>\n",
       "    <tr>\n",
       "      <th>3</th>\n",
       "      <td>upper legs</td>\n",
       "      <td>body weight</td>\n",
       "      <td>http://d205bpvrqc9yn1.cloudfront.net/1512.gif</td>\n",
       "      <td>1512</td>\n",
       "      <td>all fours squad stretch</td>\n",
       "      <td>quads</td>\n",
       "      <td>-1</td>\n",
       "    </tr>\n",
       "    <tr>\n",
       "      <th>4</th>\n",
       "      <td>waist</td>\n",
       "      <td>body weight</td>\n",
       "      <td>http://d205bpvrqc9yn1.cloudfront.net/0006.gif</td>\n",
       "      <td>6</td>\n",
       "      <td>alternate heel touchers</td>\n",
       "      <td>abs</td>\n",
       "      <td>0</td>\n",
       "    </tr>\n",
       "  </tbody>\n",
       "</table>\n",
       "</div>"
      ],
      "text/plain": [
       "     bodyPart    equipment                                         gifUrl  \\\n",
       "0       waist  body weight  http://d205bpvrqc9yn1.cloudfront.net/0001.gif   \n",
       "1       waist  body weight  http://d205bpvrqc9yn1.cloudfront.net/0002.gif   \n",
       "2       waist  body weight  http://d205bpvrqc9yn1.cloudfront.net/0003.gif   \n",
       "3  upper legs  body weight  http://d205bpvrqc9yn1.cloudfront.net/1512.gif   \n",
       "4       waist  body weight  http://d205bpvrqc9yn1.cloudfront.net/0006.gif   \n",
       "\n",
       "     id                     name target  abs  \n",
       "0     1               3/4 sit-up    abs    0  \n",
       "1     2            45° side bend    abs    0  \n",
       "2     3                 air bike    abs    0  \n",
       "3  1512  all fours squad stretch  quads   -1  \n",
       "4     6  alternate heel touchers    abs    0  "
      ]
     },
     "execution_count": 6,
     "metadata": {},
     "output_type": "execute_result"
    }
   ],
   "source": [
    "fitness_dataset.head()"
   ]
  },
  {
   "cell_type": "code",
   "execution_count": 7,
   "id": "42ad4a57",
   "metadata": {},
   "outputs": [],
   "source": [
    "x = fitness_dataset.pop('abs')"
   ]
  },
  {
   "cell_type": "code",
   "execution_count": 8,
   "id": "9448716f",
   "metadata": {},
   "outputs": [
    {
     "data": {
      "text/html": [
       "<div>\n",
       "<style scoped>\n",
       "    .dataframe tbody tr th:only-of-type {\n",
       "        vertical-align: middle;\n",
       "    }\n",
       "\n",
       "    .dataframe tbody tr th {\n",
       "        vertical-align: top;\n",
       "    }\n",
       "\n",
       "    .dataframe thead th {\n",
       "        text-align: right;\n",
       "    }\n",
       "</style>\n",
       "<table border=\"1\" class=\"dataframe\">\n",
       "  <thead>\n",
       "    <tr style=\"text-align: right;\">\n",
       "      <th></th>\n",
       "      <th>bodyPart</th>\n",
       "      <th>equipment</th>\n",
       "      <th>gifUrl</th>\n",
       "      <th>id</th>\n",
       "      <th>name</th>\n",
       "      <th>target</th>\n",
       "    </tr>\n",
       "  </thead>\n",
       "  <tbody>\n",
       "    <tr>\n",
       "      <th>0</th>\n",
       "      <td>waist</td>\n",
       "      <td>body weight</td>\n",
       "      <td>http://d205bpvrqc9yn1.cloudfront.net/0001.gif</td>\n",
       "      <td>1</td>\n",
       "      <td>3/4 sit-up</td>\n",
       "      <td>abs</td>\n",
       "    </tr>\n",
       "    <tr>\n",
       "      <th>1</th>\n",
       "      <td>waist</td>\n",
       "      <td>body weight</td>\n",
       "      <td>http://d205bpvrqc9yn1.cloudfront.net/0002.gif</td>\n",
       "      <td>2</td>\n",
       "      <td>45° side bend</td>\n",
       "      <td>abs</td>\n",
       "    </tr>\n",
       "    <tr>\n",
       "      <th>2</th>\n",
       "      <td>waist</td>\n",
       "      <td>body weight</td>\n",
       "      <td>http://d205bpvrqc9yn1.cloudfront.net/0003.gif</td>\n",
       "      <td>3</td>\n",
       "      <td>air bike</td>\n",
       "      <td>abs</td>\n",
       "    </tr>\n",
       "    <tr>\n",
       "      <th>3</th>\n",
       "      <td>upper legs</td>\n",
       "      <td>body weight</td>\n",
       "      <td>http://d205bpvrqc9yn1.cloudfront.net/1512.gif</td>\n",
       "      <td>1512</td>\n",
       "      <td>all fours squad stretch</td>\n",
       "      <td>quads</td>\n",
       "    </tr>\n",
       "    <tr>\n",
       "      <th>4</th>\n",
       "      <td>waist</td>\n",
       "      <td>body weight</td>\n",
       "      <td>http://d205bpvrqc9yn1.cloudfront.net/0006.gif</td>\n",
       "      <td>6</td>\n",
       "      <td>alternate heel touchers</td>\n",
       "      <td>abs</td>\n",
       "    </tr>\n",
       "  </tbody>\n",
       "</table>\n",
       "</div>"
      ],
      "text/plain": [
       "     bodyPart    equipment                                         gifUrl  \\\n",
       "0       waist  body weight  http://d205bpvrqc9yn1.cloudfront.net/0001.gif   \n",
       "1       waist  body weight  http://d205bpvrqc9yn1.cloudfront.net/0002.gif   \n",
       "2       waist  body weight  http://d205bpvrqc9yn1.cloudfront.net/0003.gif   \n",
       "3  upper legs  body weight  http://d205bpvrqc9yn1.cloudfront.net/1512.gif   \n",
       "4       waist  body weight  http://d205bpvrqc9yn1.cloudfront.net/0006.gif   \n",
       "\n",
       "     id                     name target  \n",
       "0     1               3/4 sit-up    abs  \n",
       "1     2            45° side bend    abs  \n",
       "2     3                 air bike    abs  \n",
       "3  1512  all fours squad stretch  quads  \n",
       "4     6  alternate heel touchers    abs  "
      ]
     },
     "execution_count": 8,
     "metadata": {},
     "output_type": "execute_result"
    }
   ],
   "source": [
    "fitness_dataset.head()"
   ]
  },
  {
   "cell_type": "code",
   "execution_count": 11,
   "id": "e90e275c",
   "metadata": {},
   "outputs": [],
   "source": [
    "x = x.replace(to_replace= -1, value = 0)"
   ]
  },
  {
   "cell_type": "code",
   "execution_count": 9,
   "id": "2f338b99",
   "metadata": {},
   "outputs": [],
   "source": [
    "x = x.replace(to_replace= 0, value = 1)"
   ]
  },
  {
   "cell_type": "code",
   "execution_count": 12,
   "id": "2c730989",
   "metadata": {},
   "outputs": [
    {
     "data": {
      "text/plain": [
       "0       1\n",
       "1       1\n",
       "2       1\n",
       "3       0\n",
       "4       1\n",
       "       ..\n",
       "1322    0\n",
       "1323    1\n",
       "1324    0\n",
       "1325    0\n",
       "1326    0\n",
       "Name: abs, Length: 1327, dtype: int64"
      ]
     },
     "execution_count": 12,
     "metadata": {},
     "output_type": "execute_result"
    }
   ],
   "source": [
    "x"
   ]
  },
  {
   "cell_type": "code",
   "execution_count": null,
   "id": "6df21b1e",
   "metadata": {},
   "outputs": [],
   "source": []
  }
 ],
 "metadata": {
  "kernelspec": {
   "display_name": "Python 3 (ipykernel)",
   "language": "python",
   "name": "python3"
  },
  "language_info": {
   "codemirror_mode": {
    "name": "ipython",
    "version": 3
   },
   "file_extension": ".py",
   "mimetype": "text/x-python",
   "name": "python",
   "nbconvert_exporter": "python",
   "pygments_lexer": "ipython3",
   "version": "3.9.7"
  }
 },
 "nbformat": 4,
 "nbformat_minor": 5
}
